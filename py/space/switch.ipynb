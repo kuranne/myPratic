{
 "cells": [
  {
   "cell_type": "markdown",
   "id": "69f0e337",
   "metadata": {},
   "source": [
    "# Switch"
   ]
  },
  {
   "cell_type": "code",
   "id": "0c72793c",
   "metadata": {
    "ExecuteTime": {
     "end_time": "2025-09-23T12:31:20.863166Z",
     "start_time": "2025-09-23T12:31:20.860337Z"
    }
   },
   "source": [
    "class Switch:\n",
    "    def __init__(self, name, status=False):\n",
    "        self.name = name\n",
    "        self.status = status\n",
    "\n",
    "    def turn(self):\n",
    "        self.status = not self.status\n",
    "\n",
    "    def clone(self):\n",
    "        return Switch(self.name + \".copy\", self.status)\n",
    "\n",
    "    def __str__(self):\n",
    "        return f\"switch({self.name}) is {'on' if self.status else 'off'}\""
   ],
   "outputs": [],
   "execution_count": 2
  },
  {
   "cell_type": "markdown",
   "id": "2390b8df",
   "metadata": {},
   "source": [
    "## Light"
   ]
  },
  {
   "cell_type": "code",
   "id": "d1cdfa7d",
   "metadata": {
    "ExecuteTime": {
     "end_time": "2025-09-23T12:31:27.077817Z",
     "start_time": "2025-09-23T12:31:27.073430Z"
    }
   },
   "source": [
    "class Light:\n",
    "    def __init__(self, name, switch):\n",
    "        self.name = name\n",
    "        self.switch = switch\n",
    "\n",
    "    def turn(self):\n",
    "        self.switch.turn()\n",
    "\n",
    "    def get_status(self):\n",
    "        return self.switch.status\n",
    "\n",
    "    def set_switch(self, new_switch):\n",
    "        self.switch = new_switch\n",
    "\n",
    "    def clone(self):\n",
    "        return Light(self.name + \".copy\", self.switch.clone())\n",
    "\n",
    "    def __str__(self):\n",
    "        return f\"light({self.name}) with switch({self.switch.name}) is {'on' if self.switch.status else 'off'}\""
   ],
   "outputs": [],
   "execution_count": 3
  },
  {
   "cell_type": "markdown",
   "id": "2d4e62b6",
   "metadata": {},
   "source": [
    "## Test"
   ]
  },
  {
   "cell_type": "code",
   "id": "934830c6",
   "metadata": {
    "ExecuteTime": {
     "end_time": "2025-09-23T12:31:52.433398Z",
     "start_time": "2025-09-23T12:31:32.142874Z"
    }
   },
   "source": [
    "s1 = Switch(\"Switch1\")\n",
    "l1 = Light(\"Light\", s1)\n",
    "\n",
    "while True:\n",
    "    match input():\n",
    "        case \"q\":\n",
    "            break\n",
    "        case _ :\n",
    "            s1.turn()\n",
    "    print(l1)"
   ],
   "outputs": [
    {
     "name": "stdout",
     "output_type": "stream",
     "text": [
      "light(Light) with switch(Switch1) is on\n",
      "light(Light) with switch(Switch1) is off\n",
      "light(Light) with switch(Switch1) is on\n"
     ]
    }
   ],
   "execution_count": 4
  }
 ],
 "metadata": {
  "kernelspec": {
   "display_name": "Python 3",
   "language": "python",
   "name": "python3"
  },
  "language_info": {
   "codemirror_mode": {
    "name": "ipython",
    "version": 3
   },
   "file_extension": ".py",
   "mimetype": "text/x-python",
   "name": "python",
   "nbconvert_exporter": "python",
   "pygments_lexer": "ipython3",
   "version": "3.13.7"
  }
 },
 "nbformat": 4,
 "nbformat_minor": 5
}
